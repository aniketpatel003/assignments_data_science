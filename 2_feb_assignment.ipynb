{
 "cells": [
  {
   "cell_type": "code",
   "execution_count": null,
   "id": "c9f6ff2c-28a4-49b3-80ee-1e6cfb8b093c",
   "metadata": {},
   "outputs": [],
   "source": [
    "Q.1 Explain with an example each when to use a for loop and a while loop."
   ]
  },
  {
   "cell_type": "code",
   "execution_count": null,
   "id": "52512b97-9ae7-4724-b466-259cef6f7f93",
   "metadata": {
    "collapsed": true,
    "jupyter": {
     "outputs_hidden": true
    },
    "tags": []
   },
   "outputs": [
    {
     "data": {
      "text/plain": [
       "' ANS 1 : - We use for loop when we know the number of times loop has to run before stopping.\\n              However, we use while loop when we dont know the number of times for which it has\\n              to loop but we know the stopping condition, it runs until the condition provided \\n              is true.\\n              \\n              Example for for loop : When we have to iterate over various sequences such as list, tuple, dictionary.\\n              \\n              Example for while loop : Traversing the end node of any linked list eg : while(ptr->next != NULL ) { ptr= ptr->next} '"
      ]
     },
     "execution_count": 1,
     "metadata": {},
     "output_type": "execute_result"
    }
   ],
   "source": [
    "\"\"\" ANS 1 :- We use for loop when we know the number of times loop has to run before stopping.\n",
    "              However, we use while loop when we dont know the number of times for which it has\n",
    "              to loop but we know the stopping condition, it runs until the condition provided \n",
    "              is true.\n",
    "              \n",
    "              Example for for loop : When we have to iterate over various sequences such as list, tuple, dictionary.\n",
    "              \n",
    "              Example for while loop : Traversing the end node of any linked list eg : while(ptr->next != NULL ) { ptr= ptr->next} \"\"\""
   ]
  },
  {
   "cell_type": "code",
   "execution_count": null,
   "id": "c512cae4-fbe8-4bab-8a5b-f860974fe2d0",
   "metadata": {},
   "outputs": [],
   "source": [
    "Q2. Write a python program to print the sum and product of the first 10 natural numbers using for\n",
    "and while loop."
   ]
  },
  {
   "cell_type": "code",
   "execution_count": 2,
   "id": "e4bdeee5-028e-4218-8e7f-df513aa8d30f",
   "metadata": {},
   "outputs": [
    {
     "name": "stdout",
     "output_type": "stream",
     "text": [
      "55\n",
      "3628800\n"
     ]
    }
   ],
   "source": [
    "# ANS 2 :- A.) sum and product of first 10 natural numbers using FOR loop\n",
    "sum = 0\n",
    "prod = 1\n",
    "for i in range(1,11):\n",
    "    sum += i\n",
    "    prod *= i\n",
    "print(sum)\n",
    "print(prod)\n"
   ]
  },
  {
   "cell_type": "code",
   "execution_count": 7,
   "id": "0e4748b7-61e2-45d2-abeb-7748810eb518",
   "metadata": {},
   "outputs": [
    {
     "name": "stdout",
     "output_type": "stream",
     "text": [
      "55\n",
      "3628800\n"
     ]
    }
   ],
   "source": [
    "# ANS 2 :- B.) sum and product of first 10 natural numbers using WHILE loop\n",
    "sum = 0\n",
    "prod = 1\n",
    "count = 1\n",
    "while (count <=10) :\n",
    "    \n",
    "    sum += count\n",
    "    prod *= count\n",
    "    count+=1\n",
    "    \n",
    "print(sum)\n",
    "print(prod)\n",
    "    "
   ]
  },
  {
   "cell_type": "code",
   "execution_count": null,
   "id": "f1716c08-471d-4516-a965-a27cae45710b",
   "metadata": {},
   "outputs": [],
   "source": [
    "Q3. Create a python program to compute the electricity bill for a household.\n",
    "    The per-unit charges in rupees are as follows: For the first 100 units, the user will be charged Rs. 4.5 per\n",
    "    unit, for the next 100 units, the user will be charged Rs. 6 per unit, and for the next 100 units, the user will\n",
    "    be charged Rs. 10 per unit, After 300 units and above the user will be charged Rs. 20 per unit.\n",
    "\n",
    "\n",
    "    You are required to take the units of electricity consumed in a month from the user as input.\n",
    "\n",
    "\n",
    "    Your program must pass this test case: when the unit of electricity consumed by the user in a month is\n",
    "    310, the total electricity bill should be 2250."
   ]
  },
  {
   "cell_type": "code",
   "execution_count": 13,
   "id": "c3986f61-63b1-4c55-b699-821eb1213b6f",
   "metadata": {},
   "outputs": [
    {
     "name": "stdin",
     "output_type": "stream",
     "text": [
      "Enter the units of electricity consumed in a month 310\n"
     ]
    },
    {
     "name": "stdout",
     "output_type": "stream",
     "text": [
      " total electricity bill for 310 unita is  2250\n"
     ]
    }
   ],
   "source": [
    "# ANS 3 :-\n",
    "units = int(input(\"Enter the units of electricity consumed in a month\"))\n",
    "if units <=100:\n",
    "    elect_bill = units*4.5\n",
    "elif units >100 and units <= 200:\n",
    "    elect_bill = 100*4.5 + (units-100)*6\n",
    "elif units >200 and units <= 300:\n",
    "    elect_bill = 100*4.5 + 100*6 + (units-200)*10\n",
    "else:\n",
    "    elect_bill= 100*4.5 + 100*6 + 100*10 + (units-300)*20\n",
    "    \n",
    "print(\" total electricity bill for\" , units , \"unita is \" , int(elect_bill))\n"
   ]
  },
  {
   "cell_type": "code",
   "execution_count": null,
   "id": "09e1bec8-75bd-4cde-a59d-a0fd98fb2351",
   "metadata": {},
   "outputs": [],
   "source": [
    "Q4. Create a list of numbers from 1 to 100. Use for loop and while loop to calculate the cube of each\n",
    "    number and if the cube of that number is divisible by 4 or 5 then append that number in a list and print\n",
    "    that list."
   ]
  },
  {
   "cell_type": "code",
   "execution_count": null,
   "id": "bc74edac-c2a3-45f5-a14a-0169261f98ec",
   "metadata": {},
   "outputs": [],
   "source": [
    "# ANS 4 :- using for \n",
    "\n",
    "l1 = list(range(1, 101))\n",
    "l=[]\n",
    "for i in l1 :\n",
    "    if (((i**3) % 4)==0) and (((i**3) % 5)==0):\n",
    "        l.append(i)\n",
    "l"
   ]
  },
  {
   "cell_type": "code",
   "execution_count": 3,
   "id": "c772a72c-d2a6-4bfb-b991-a494c2f91395",
   "metadata": {},
   "outputs": [
    {
     "data": {
      "text/plain": [
       "[10, 20, 30, 40, 50, 60, 70, 80, 90, 100]"
      ]
     },
     "execution_count": 3,
     "metadata": {},
     "output_type": "execute_result"
    }
   ],
   "source": [
    "# ANS 4 : using while\n",
    "count = 1\n",
    "l= []\n",
    "while count<101:\n",
    "    if (((count**3) % 4)==0) and (((count**3) % 5)==0):\n",
    "        l.append(count)\n",
    "    count = count+1\n",
    "l\n",
    "        "
   ]
  },
  {
   "cell_type": "code",
   "execution_count": null,
   "id": "b17253ab-5484-4e63-91e2-edcb5389fb4c",
   "metadata": {},
   "outputs": [],
   "source": [
    "Q5. Write a program to filter and count vowels in the below-given string.\n",
    "\n",
    "    string = \"I want to become a data scientist\""
   ]
  },
  {
   "cell_type": "code",
   "execution_count": 2,
   "id": "c6ca3648-2e04-406e-9b8d-97d6e5ad31d9",
   "metadata": {},
   "outputs": [
    {
     "name": "stdout",
     "output_type": "stream",
     "text": [
      "12\n"
     ]
    },
    {
     "data": {
      "text/plain": [
       "{'I', 'a', 'e', 'i', 'o'}"
      ]
     },
     "execution_count": 2,
     "metadata": {},
     "output_type": "execute_result"
    }
   ],
   "source": [
    "# ANS 5\n",
    "vowels = \"AEIOUaeiou\"\n",
    "count =0\n",
    "vowels_found=[]\n",
    "a = \"I want to become a data scientist\"\n",
    "for i in a :\n",
    "    if i in vowels:\n",
    "        count = count+1\n",
    "        vowels_found.append(i)\n",
    "print(count)\n",
    "set(vowels_found)"
   ]
  },
  {
   "cell_type": "code",
   "execution_count": null,
   "id": "b4da8106-9730-428d-b92b-932a292f7135",
   "metadata": {},
   "outputs": [],
   "source": []
  }
 ],
 "metadata": {
  "kernelspec": {
   "display_name": "Python 3 (ipykernel)",
   "language": "python",
   "name": "python3"
  },
  "language_info": {
   "codemirror_mode": {
    "name": "ipython",
    "version": 3
   },
   "file_extension": ".py",
   "mimetype": "text/x-python",
   "name": "python",
   "nbconvert_exporter": "python",
   "pygments_lexer": "ipython3",
   "version": "3.10.8"
  }
 },
 "nbformat": 4,
 "nbformat_minor": 5
}
