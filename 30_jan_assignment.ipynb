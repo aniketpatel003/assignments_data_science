{
 "cells": [
  {
   "cell_type": "code",
   "execution_count": 3,
   "id": "dc362a9e-1fad-478c-bdbf-d26ab88e2890",
   "metadata": {},
   "outputs": [
    {
     "name": "stdin",
     "output_type": "stream",
     "text": [
      " Please enter the percentage you've got, so that we can give you the corresponding grade  90\n"
     ]
    },
    {
     "name": "stdout",
     "output_type": "stream",
     "text": [
      " Your grade is B \n"
     ]
    }
   ],
   "source": [
    "''' Ans 1 : -'''\n",
    "\n",
    "a= int(input(\" Please enter the percentage you've got, so that we can give you the corresponding grade \"))\n",
    "if a>90 :\n",
    "    print ( \" Your grade is A \")\n",
    "elif a<=90 and a>80 :\n",
    "    print (\" Your grade is B \")\n",
    "elif a<=80 and a>=60 :\n",
    "    print(\" Your grade is C \")\n",
    "else :\n",
    "    print( \" Your grade is D \")\n",
    "    \n",
    "        "
   ]
  },
  {
   "cell_type": "code",
   "execution_count": 10,
   "id": "6454f625-4604-41c9-b0d7-3279e385cfaa",
   "metadata": {},
   "outputs": [
    {
     "name": "stdin",
     "output_type": "stream",
     "text": [
      "enter the cost price of bike 25000\n"
     ]
    },
    {
     "name": "stdout",
     "output_type": "stream",
     "text": [
      " Your road tax is :  1250.0\n"
     ]
    }
   ],
   "source": [
    "''' Ans 2 : - USING NESTED TERNARY EXPRESSION '''\n",
    "\n",
    "a = int(input(\"enter the cost price of bike\"))\n",
    "b = 0.15*a if a>100000 else ( 0.1*a if a>50000 and a<=100000 else 0.05*a)\n",
    "print( \" Your road tax is : \" , b )"
   ]
  },
  {
   "cell_type": "code",
   "execution_count": 30,
   "id": "498af0fc-fcbc-400b-bf11-b7b57c101624",
   "metadata": {},
   "outputs": [
    {
     "name": "stdin",
     "output_type": "stream",
     "text": [
      " Enter the name of the city (in smallcase and without whitespaces) , and we would provide you with the famous monument present in that city   agra\n"
     ]
    },
    {
     "name": "stdout",
     "output_type": "stream",
     "text": [
      "\n",
      "   Taj Mahal \n"
     ]
    }
   ],
   "source": [
    "''' Ans 3 :- '''\n",
    "\n",
    "a=  input(\" Enter the name of the city (in smallcase and without whitespaces) , and we would provide you with the famous monument present in that city  \")\n",
    "b = 'Red Fort' if a == 'delhi' else ( ' Taj Mahal ' if a == 'agra' else  (  ' Jal Mahal ' if a == 'jaipur' else ( ' No data about this city ')))\n",
    "print( \"\\n \", b )"
   ]
  },
  {
   "cell_type": "code",
   "execution_count": 24,
   "id": "6e53f655-9a78-4721-b6f2-a593d022c658",
   "metadata": {},
   "outputs": [
    {
     "name": "stdin",
     "output_type": "stream",
     "text": [
      " enter the number  56\n"
     ]
    },
    {
     "name": "stdout",
     "output_type": "stream",
     "text": [
      "56 is divisible by 3 :- 2 no of times before it is less than or equal to 10 \n"
     ]
    }
   ],
   "source": [
    "''' Ans 4 :- '''\n",
    "\n",
    "a = int(input(\" enter the number \"))\n",
    "b=a\n",
    "count = 0\n",
    "while a>10:\n",
    "    a= a/3\n",
    "    count += 1\n",
    "print(b, \"is divisible by 3 :-\" ,count ,\"no of times before it is less than or equal to 10 \")"
   ]
  },
  {
   "cell_type": "code",
   "execution_count": 31,
   "id": "dd8bc316-563e-4c68-b107-6b62be237b43",
   "metadata": {},
   "outputs": [
    {
     "name": "stdin",
     "output_type": "stream",
     "text": [
      " enter the number  34\n"
     ]
    },
    {
     "name": "stdout",
     "output_type": "stream",
     "text": [
      "34 is divisible by 3 :- 2 no of times before it is less than or equal to 10 \n"
     ]
    }
   ],
   "source": [
    "''' Ans 5 a) :- Python While Loop is used to execute a block of statements repeatedly until a given condition is satisfied. When the condition becomes\n",
    "                false, the line immediately after the loop in the program is executed. '''\n",
    "\n",
    "''' Ans 5 b) :- Use of while loop to calculate no of times a number is divisible by 3 before it is less than or equal to 10 '''\n",
    "\n",
    "a = int(input(\" enter the number \"))\n",
    "b=a\n",
    "count = 0\n",
    "while a>10:\n",
    "    a= a/3\n",
    "    count += 1\n",
    "print(b, \"is divisible by 3 :-\" ,count ,\"no of times before it is less than or equal to 10 \")"
   ]
  },
  {
   "cell_type": "code",
   "execution_count": 32,
   "id": "5e128a04-1be3-4ee2-8eab-37c7d4f6f264",
   "metadata": {},
   "outputs": [
    {
     "name": "stdout",
     "output_type": "stream",
     "text": [
      "11.333333333333334\n"
     ]
    }
   ],
   "source": [
    "x= 34/3\n",
    "print ( x)"
   ]
  },
  {
   "cell_type": "code",
   "execution_count": 44,
   "id": "8d71a9db-4f43-49c2-b334-846076e22072",
   "metadata": {},
   "outputs": [
    {
     "name": "stdout",
     "output_type": "stream",
     "text": [
      "1  \n",
      "\n",
      "2  2  \n",
      "\n",
      "3  3  3  \n",
      "\n",
      "4  4  4  4  \n",
      "\n",
      "5  5  5  5  5  \n",
      "\n"
     ]
    }
   ],
   "source": [
    "''' Ans 6 1.) :- '''\n",
    "\n",
    "rows = 6\n",
    "for i in range(1, rows):\n",
    "    for j in range(1,i+1):\n",
    "        print(i, end='  ')\n",
    "    print('\\n')"
   ]
  },
  {
   "cell_type": "code",
   "execution_count": 46,
   "id": "a3d12544-744d-479f-92cc-61f5a37bedf0",
   "metadata": {},
   "outputs": [
    {
     "name": "stdout",
     "output_type": "stream",
     "text": [
      "1  1  1  1  1  \n",
      "\n",
      "2  2  2  2  \n",
      "\n",
      "3  3  3  \n",
      "\n",
      "4  4  \n",
      "\n",
      "5  \n",
      "\n"
     ]
    }
   ],
   "source": [
    "''' Ans 6 2.) :- '''\n",
    "\n",
    "rows = 5\n",
    "b = 0\n",
    "for i in range(rows, 0, -1):\n",
    "    b += 1\n",
    "    for j in range(1, i + 1):\n",
    "        print(b, end='  ')\n",
    "    print('\\n')\n",
    "\n"
   ]
  },
  {
   "cell_type": "code",
   "execution_count": 47,
   "id": "1afc5875-2738-490e-ad05-d320f6c3e82b",
   "metadata": {},
   "outputs": [
    {
     "name": "stdout",
     "output_type": "stream",
     "text": [
      "        * * * * * * \n",
      "         * * * * * \n",
      "          * * * * \n",
      "           * * * \n",
      "            * * \n",
      "             * \n"
     ]
    }
   ],
   "source": [
    "''' Ans 6 3.) :- '''\n",
    "\n",
    "rows = 5\n",
    "k = 2 * rows - 2\n",
    "for i in range(rows, -1, -1):\n",
    "    for j in range(k, 0, -1):\n",
    "        print(end=\" \")\n",
    "    k = k + 1\n",
    "    for j in range(0, i + 1):\n",
    "        print(\"*\", end=\" \")\n",
    "    print(\"\")\n"
   ]
  },
  {
   "cell_type": "code",
   "execution_count": 49,
   "id": "a4f09db3-6509-4707-ba10-9df5db06829b",
   "metadata": {},
   "outputs": [
    {
     "name": "stdout",
     "output_type": "stream",
     "text": [
      "10 9 8 7 6 5 4 3 2 1 "
     ]
    }
   ],
   "source": [
    "''' Ans 7 :- '''\n",
    "\n",
    "a = 10\n",
    "while(a>0):\n",
    "    print( a, end = ' ')\n",
    "    a-=1"
   ]
  },
  {
   "cell_type": "code",
   "execution_count": null,
   "id": "81dfcb7b-8ad0-48a3-8164-d0a8344a73ed",
   "metadata": {},
   "outputs": [],
   "source": []
  }
 ],
 "metadata": {
  "kernelspec": {
   "display_name": "Python 3 (ipykernel)",
   "language": "python",
   "name": "python3"
  },
  "language_info": {
   "codemirror_mode": {
    "name": "ipython",
    "version": 3
   },
   "file_extension": ".py",
   "mimetype": "text/x-python",
   "name": "python",
   "nbconvert_exporter": "python",
   "pygments_lexer": "ipython3",
   "version": "3.10.8"
  }
 },
 "nbformat": 4,
 "nbformat_minor": 5
}
