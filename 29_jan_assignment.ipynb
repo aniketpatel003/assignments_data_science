{
 "cells": [
  {
   "cell_type": "code",
   "execution_count": null,
   "id": "b68ba1e9-3dad-4580-b0ce-b67b01e57a12",
   "metadata": {},
   "outputs": [],
   "source": [
    "''' Ans 1 :- Python was created by Guido van Rossum, and first released on February 20, 1991. While you may know the\n",
    "           python as a large snake, the name of the Python programming language comes from an old BBC television comedy\n",
    "           sketch series called Monty Python's Flying Circus.'''\n"
   ]
  },
  {
   "cell_type": "code",
   "execution_count": null,
   "id": "e3c5d3e2-ee43-4abb-9528-d98bea6ea3fd",
   "metadata": {},
   "outputs": [],
   "source": [
    "''' Ans 2 :- Python is an interpreted programming language, supporting object-oriented, structured, and functional\n",
    "             programming.'''"
   ]
  },
  {
   "cell_type": "code",
   "execution_count": null,
   "id": "d4f42339-fae7-4605-86c9-8ac1c2c03035",
   "metadata": {},
   "outputs": [],
   "source": [
    "''' Ans 3 :- Yes, Python is a case-sensitive language, i.e., it treats uppercase and lowercase characters differently.\n",
    "             This applies to identifiers too.'''"
   ]
  },
  {
   "cell_type": "code",
   "execution_count": null,
   "id": "06d19837-f877-4e60-830d-38d15b3b0d4a",
   "metadata": {},
   "outputs": [],
   "source": [
    "''' Ans 4 :- The correct extension for Python source code files is “. py”.'''"
   ]
  },
  {
   "cell_type": "code",
   "execution_count": null,
   "id": "f1823144-b123-4035-ac8d-983a95d0aa25",
   "metadata": {},
   "outputs": [],
   "source": [
    "''' Ans 5 :- The python program is first compiled and then interpreted.'''"
   ]
  },
  {
   "cell_type": "code",
   "execution_count": null,
   "id": "5f74c047-21d8-495b-ba11-e61d0e671aee",
   "metadata": {},
   "outputs": [],
   "source": [
    "''' Ans 6 :- Functions, class, conditional statements, Iterative loops are few blocks of code to name.  In Python, a\n",
    "             block of code is implemented using indentation.'''"
   ]
  },
  {
   "cell_type": "code",
   "execution_count": null,
   "id": "f28f2242-36db-4e05-94c4-5bbea9b05bcc",
   "metadata": {},
   "outputs": [],
   "source": [
    "# Ans 7 :- For single line comments we use \" # \" before writing the single line comment."
   ]
  },
  {
   "cell_type": "code",
   "execution_count": 5,
   "id": "59d9d7fe-9bf1-4f26-be36-ce99eb6fe268",
   "metadata": {},
   "outputs": [
    {
     "data": {
      "text/plain": [
       "'3.10.8 | packaged by conda-forge | (main, Nov 22 2022, 08:26:04) [GCC 10.4.0]'"
      ]
     },
     "execution_count": 5,
     "metadata": {},
     "output_type": "execute_result"
    }
   ],
   "source": [
    "''' Ans 8 :-'''\n",
    "import sys\n",
    "sys.version"
   ]
  },
  {
   "cell_type": "code",
   "execution_count": null,
   "id": "ea1b758c-ed7a-42cc-ad30-6cdc5fa9e0ad",
   "metadata": {},
   "outputs": [],
   "source": [
    "''' Ans 9 :- Lambda construct is used to create anonymous functions. '''"
   ]
  },
  {
   "cell_type": "code",
   "execution_count": null,
   "id": "4604f549-6332-46ff-a264-abf647087822",
   "metadata": {},
   "outputs": [],
   "source": [
    "''' Ans 10 :- Preferred Installer Program” or PIP Installs Packages. It is a command-line utility that installs, \n",
    "              reinstalls, or uninstalls PyPI (Python Package Index) packages with one simple command: pip '''"
   ]
  },
  {
   "cell_type": "code",
   "execution_count": null,
   "id": "e6fea5ff-83c5-4228-838a-0853b248ed75",
   "metadata": {},
   "outputs": [],
   "source": [
    "''' Ans 11 :- The built-in Python functions are pre-defined by the python interpreter. There are 68 built-in python\n",
    "              functions. These functions perform a specific task and can be used in any program, depending on the \n",
    "              requirement of the user. \n",
    "              \n",
    "              For eg :- dict(), list(), delattr(), etc.'''"
   ]
  },
  {
   "cell_type": "code",
   "execution_count": null,
   "id": "63e6e304-b7d1-42e9-a0ee-3cafdbd6fb9b",
   "metadata": {},
   "outputs": [],
   "source": [
    "''' Ans 12 :- An identifier can have a maximum length of 79 characters in Python.'''"
   ]
  },
  {
   "cell_type": "code",
   "execution_count": null,
   "id": "75d675ae-da57-4a42-ac31-db774363f65c",
   "metadata": {},
   "outputs": [],
   "source": [
    "''' Ans 13 :- Advantages of Python Programming Language: \n",
    "\n",
    "1) Presence of third-party modules: Python has a rich ecosystem of third-party modules and libraries that extend its\n",
    "   functionality for various tasks.\n",
    "   \n",
    "2) Extensive support libraries: Python boasts extensive support libraries like NumPy for numerical calculations and\n",
    "   Pandas for data analytics, making it suitable for scientific and data-related applications. \n",
    "   \n",
    "3) Versatile, easy to read, learn, and write: Python is known for its simplicity and readability.\n",
    "\n",
    "4) User-friendly data structures: Python offers intuitive and easy-to-use data structures, simplifying data manipulation\n",
    "   and management.\n",
    "   \n",
    "5) High-level language: Python is a high-level language that abstracts low-level details, making it more user-friendly.\n",
    "\n",
    "6) Dynamically typed language: Python is dynamically typed, meaning you don’t need to declare data types explicitly, \n",
    "   making it flexible but still reliable.\n",
    "   \n",
    "7) Object-Oriented and Procedural programming language: Python supports both object-oriented and procedural programming, \n",
    "   providing versatility in coding styles.\n",
    "   \n",
    "8) Portable and interactive: Python is portable across operating systems and interactive, allowing real-time code \n",
    "   execution and testing.\n",
    "   \n",
    "9) Interpreted language: Python is interpreted, which allows for easier debugging and code development. '''"
   ]
  },
  {
   "cell_type": "code",
   "execution_count": null,
   "id": "78838f70-9765-4905-91ca-3ae9a02f7f6f",
   "metadata": {},
   "outputs": [],
   "source": [
    "''' Ans 14 :- In Python, memory management is handled by a private heap space. The heap is a region of memory where \n",
    "              objects are stored and managed. Python's memory manager takes care of allocating memory for new objects\n",
    "              and freeing memory for objects that are no longer in use. '''"
   ]
  },
  {
   "cell_type": "code",
   "execution_count": null,
   "id": "48694e49-7b1c-4de1-bcd4-d5de49c83f21",
   "metadata": {},
   "outputs": [],
   "source": [
    "''' Ans 15 :- Download latest version of python from Python.org for your version of windows and operating system ( 64 bit ).\n",
    "\n",
    "\n",
    "              Step 1: Locate Python Installation\n",
    "     \n",
    "              First, we need to locate where the Python is being installed after downloading it.\n",
    "              Press the WINDOWS key and search for “Python”.\n",
    "              \n",
    "              Step 2: \n",
    "              \n",
    "              Click on open file location and you will be in a location where Python is installed, \n",
    "              Copy the location path from the top by clicking over it.\n",
    "              \n",
    "              Step 3:\n",
    "              \n",
    "              Add Python to Path as an User Environmental Variable.\n",
    "              You are done !! . Run python in cmd to verify. '''"
   ]
  },
  {
   "cell_type": "code",
   "execution_count": null,
   "id": "ca8860f1-9d58-4ba6-ad6b-a14c0ac81a30",
   "metadata": {},
   "outputs": [],
   "source": [
    "''' Ans 16 :- Indentation is mandatory in python to define the blocks of statements. \n",
    "              The number of spaces must be uniform in a block of code.\n",
    "              It is preferred to use whitespaces instead of tabs to indent in python. '''"
   ]
  }
 ],
 "metadata": {
  "kernelspec": {
   "display_name": "Python 3 (ipykernel)",
   "language": "python",
   "name": "python3"
  },
  "language_info": {
   "codemirror_mode": {
    "name": "ipython",
    "version": 3
   },
   "file_extension": ".py",
   "mimetype": "text/x-python",
   "name": "python",
   "nbconvert_exporter": "python",
   "pygments_lexer": "ipython3",
   "version": "3.10.8"
  }
 },
 "nbformat": 4,
 "nbformat_minor": 5
}
