{
 "cells": [
  {
   "cell_type": "code",
   "execution_count": null,
   "id": "92c4e4f7-0d95-48af-a451-cbf203548098",
   "metadata": {},
   "outputs": [],
   "source": [
    "'''Q1. Explain Class and Object with respect to Object-Oriented Programming. Give a suitable example.'''"
   ]
  },
  {
   "cell_type": "code",
   "execution_count": 1,
   "id": "c10dac40-5139-41fa-afe4-e62a76431755",
   "metadata": {},
   "outputs": [],
   "source": [
    "'''Ans 1 a):- Classes are user-defined data types that act as the blueprint or skeleton for individual objects, attributes and methods.\n",
    "              Objects are instances of a class created with specifically defined data. \n",
    "              \n",
    "              Objects can correspond to real-world objects or an abstract entity.'''\n",
    "\n",
    "# Ans 1 b) :- class car having honda_city object\n",
    "\n",
    "class car:\n",
    "    def __init__(self, type_of_car, manufacturer, year, model ):\n",
    "        self.type_of_car = type_of_car\n",
    "        self.manufacturer = manufacturer\n",
    "        self.year = year\n",
    "        self.model= model\n"
   ]
  },
  {
   "cell_type": "code",
   "execution_count": 4,
   "id": "7c2ef094-535c-4269-b65d-ee869e515269",
   "metadata": {},
   "outputs": [],
   "source": [
    "honda_city = car('sedan', 'honda', 2023, 'v')  "
   ]
  },
  {
   "cell_type": "code",
   "execution_count": 6,
   "id": "3b47ba2e-eaab-4e4e-bb56-35a8b43acd41",
   "metadata": {},
   "outputs": [
    {
     "data": {
      "text/plain": [
       "'honda'"
      ]
     },
     "execution_count": 6,
     "metadata": {},
     "output_type": "execute_result"
    }
   ],
   "source": [
    "honda_city.manufacturer"
   ]
  },
  {
   "cell_type": "code",
   "execution_count": null,
   "id": "6a714b72-6f44-44ba-8627-eb768e2809a7",
   "metadata": {},
   "outputs": [],
   "source": [
    "'''Q2. Name the four pillars of OOPs.'''"
   ]
  },
  {
   "cell_type": "code",
   "execution_count": null,
   "id": "facd1076-cfaf-413b-a79f-2d22106f0ed0",
   "metadata": {},
   "outputs": [],
   "source": [
    "''' Ans 2 :- 1.) Polymorphism 2.) Encapsulation 3.) Inheritance 4.) Abstraction '''\n"
   ]
  },
  {
   "cell_type": "code",
   "execution_count": null,
   "id": "3b1dc986-a15a-43bb-ada2-9eb3ef167cf4",
   "metadata": {},
   "outputs": [],
   "source": [
    "'''Q3. Explain why the __init__() function is used. Give a suitable example.'''"
   ]
  },
  {
   "cell_type": "code",
   "execution_count": 7,
   "id": "9d770507-0d52-4457-b25a-b8b1f773686e",
   "metadata": {},
   "outputs": [
    {
     "data": {
      "text/plain": [
       "'honda'"
      ]
     },
     "execution_count": 7,
     "metadata": {},
     "output_type": "execute_result"
    }
   ],
   "source": [
    "''' Ans 3 a) :- __init__() method is used to initialize the instance/object. It can be used to perform any action\n",
    "                before the instance is applied. It works like a self constructor.\n",
    "                \n",
    "                The method __init__ is a special method in Python that is called automatically when creating a\n",
    "                new instance of a class. '''\n",
    "                 \n",
    "# Ans 3 b) :- \n",
    "\n",
    "class car:\n",
    "    def __init__(self, type_of_car, manufacturer, year, model ):\n",
    "        self.type_of_car = type_of_car\n",
    "        self.manufacturer = manufacturer\n",
    "        self.year = year\n",
    "        self.model= model\n",
    "honda_city = car('sedan', 'honda', 2023, 'v') \n",
    "\n",
    "honda_city.manufacturer"
   ]
  },
  {
   "cell_type": "code",
   "execution_count": null,
   "id": "f5a969d2-c879-4123-83ea-b2ee0af9db56",
   "metadata": {},
   "outputs": [],
   "source": [
    "'''Q4. Why self is used in OOPs?'''"
   ]
  },
  {
   "cell_type": "code",
   "execution_count": null,
   "id": "2d319ab4-dbd6-4418-9a2e-05a2cee542ea",
   "metadata": {},
   "outputs": [],
   "source": [
    "''' Ans 4 :- Self is used to bind the object with the class. When working with classes in Python, the term “self” refers\n",
    "             to the instance of the class that is currently being used. It is customary to use “self” as the first\n",
    "             parameter in instance methods of a class. Whenever you call a method of an object created from a class,\n",
    "             the object is automatically passed as the first argument using the “self” parameter. This enables you to \n",
    "             modify the object’s properties and execute tasks unique to that particular instance."
   ]
  },
  {
   "cell_type": "code",
   "execution_count": null,
   "id": "1e4baef4-76d7-4420-94a6-402d86e92470",
   "metadata": {},
   "outputs": [],
   "source": [
    "'''Q5. What is inheritance? Give an example for each type of inheritance.'''"
   ]
  },
  {
   "cell_type": "code",
   "execution_count": 15,
   "id": "0a6a94cd-6b50-418e-8ff9-d83e7c99822e",
   "metadata": {},
   "outputs": [
    {
     "name": "stdout",
     "output_type": "stream",
     "text": [
      " you are invited to annual function day \n"
     ]
    }
   ],
   "source": [
    "''' Ans 5 a) :- Inheritance allows us to define a class that inherits all the methods and properties from another class.\n",
    "                Parent class is the class being inherited from, also called base class. Child class is the class that \n",
    "                inherits from another class, also called derived class.\n",
    "    Ans 5 b) :- '''\n",
    "\n",
    "class school :\n",
    "    def __init__(self, school_name, standard, percentage, rank):\n",
    "        self.school_name =  school_name\n",
    "        self.standard= standard\n",
    "        self.percentage= percentage\n",
    "        self.rank = rank\n",
    "        \n",
    "    def awards(self):\n",
    "        if self.rank < 4 :\n",
    "            print( \" you are invited to annual function day \")\n",
    "   \n",
    "            \n",
    "        \n",
    "class student(school) :\n",
    "    def __init__(self, name, roll_no, rank):\n",
    "        self.name = name\n",
    "        self.roll_no = roll_no\n",
    "        self.rank = rank\n",
    "    \n",
    "    \n",
    "    \n",
    "\n",
    "rohan= student(\"rohan\", 45,3)\n",
    "rohan.awards()\n",
    "    "
   ]
  },
  {
   "cell_type": "code",
   "execution_count": null,
   "id": "c834eaba-d392-41f7-849e-d499f716aae6",
   "metadata": {},
   "outputs": [],
   "source": []
  }
 ],
 "metadata": {
  "kernelspec": {
   "display_name": "Python 3 (ipykernel)",
   "language": "python",
   "name": "python3"
  },
  "language_info": {
   "codemirror_mode": {
    "name": "ipython",
    "version": 3
   },
   "file_extension": ".py",
   "mimetype": "text/x-python",
   "name": "python",
   "nbconvert_exporter": "python",
   "pygments_lexer": "ipython3",
   "version": "3.10.8"
  }
 },
 "nbformat": 4,
 "nbformat_minor": 5
}
