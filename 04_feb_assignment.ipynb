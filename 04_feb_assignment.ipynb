{
 "cells": [
  {
   "cell_type": "code",
   "execution_count": null,
   "id": "41c03e97-1d83-4c6d-bc37-58fc2f36ad47",
   "metadata": {},
   "outputs": [],
   "source": [
    "'''Q1. Create a python program to sort the given list of tuples based on integer value using a\n",
    "lambda function.\n",
    "[('Sachin Tendulkar', 34357), ('Ricky Ponting', 27483), ('Jack Kallis', 25534), ('Virat Kohli', 24936)]'''"
   ]
  },
  {
   "cell_type": "code",
   "execution_count": 1,
   "id": "d2821f16-1eef-4ba8-8135-06151b54a073",
   "metadata": {},
   "outputs": [
    {
     "data": {
      "text/plain": [
       "[('Virat Kohli', 24936),\n",
       " ('Jack Kallis', 25534),\n",
       " ('Ricky Ponting', 27483),\n",
       " ('Sachin Tendulkar', 34357)]"
      ]
     },
     "execution_count": 1,
     "metadata": {},
     "output_type": "execute_result"
    }
   ],
   "source": [
    "# Ans 1 :- \n",
    "\n",
    "l1 =[('Sachin Tendulkar', 34357), ('Ricky Ponting', 27483), ('Jack Kallis', 25534), ('Virat Kohli', 24936)]\n",
    "l1.sort(key=lambda x: x[1], reverse= False)\n",
    "l1"
   ]
  },
  {
   "cell_type": "code",
   "execution_count": null,
   "id": "c2c7372a-400a-4fe6-a6e0-98157f937db2",
   "metadata": {},
   "outputs": [],
   "source": [
    "'''Q2. Write a Python Program to find the squares of all the numbers in the given list of integers using\n",
    "lambda and map functions.\n",
    "\n",
    "\n",
    "[1, 2, 3, 4, 5, 6, 7, 8, 9, 10]'''\n"
   ]
  },
  {
   "cell_type": "code",
   "execution_count": 7,
   "id": "174572a3-75c0-4ba5-8919-160d82701cb0",
   "metadata": {},
   "outputs": [
    {
     "data": {
      "text/plain": [
       "[1, 4, 9, 16, 25, 36, 49, 64, 81, 100]"
      ]
     },
     "execution_count": 7,
     "metadata": {},
     "output_type": "execute_result"
    }
   ],
   "source": [
    "# Ans :-\n",
    "\n",
    "l= [1, 2, 3, 4, 5, 6, 7, 8, 9, 10]\n",
    "list(map(lambda x : x**2, l))"
   ]
  },
  {
   "cell_type": "code",
   "execution_count": null,
   "id": "5e9c2c29-8a55-4630-bc22-127c898d290d",
   "metadata": {},
   "outputs": [],
   "source": [
    "'''Q3. Write a python program to convert the given list of integers into a tuple of strings. Use map and\n",
    "lambda functions\n",
    "\n",
    "\n",
    "Given String: [1, 2, 3, 4, 5, 6, 7, 8, 9, 10]\n",
    "\n",
    "Expected output: ('1', '2', '3', '4', '5', '6', '7', '8', '9', '10')'''"
   ]
  },
  {
   "cell_type": "code",
   "execution_count": 9,
   "id": "ce7abaf9-b994-4ac4-b062-a72ff91e9798",
   "metadata": {},
   "outputs": [
    {
     "data": {
      "text/plain": [
       "('1', '2', '3', '4', '5', '6', '7', '8', '9', '10')"
      ]
     },
     "execution_count": 9,
     "metadata": {},
     "output_type": "execute_result"
    }
   ],
   "source": [
    "# Ans 3:- \n",
    "l1= [1, 2, 3, 4, 5, 6, 7, 8, 9, 10]\n",
    "tuple(map(lambda x : str(x) , l1))\n"
   ]
  },
  {
   "cell_type": "code",
   "execution_count": null,
   "id": "dcd5bdaf-b6e1-4b4b-a9dd-6d12a6a2f6ab",
   "metadata": {},
   "outputs": [],
   "source": [
    "'''Q4. Write a python program using reduce function to compute the product of a list containing numbers\n",
    "from 1 to 25. '''"
   ]
  },
  {
   "cell_type": "code",
   "execution_count": 13,
   "id": "e2139122-9500-4093-8c7d-4d00722f6009",
   "metadata": {},
   "outputs": [
    {
     "data": {
      "text/plain": [
       "15511210043330985984000000"
      ]
     },
     "execution_count": 13,
     "metadata": {},
     "output_type": "execute_result"
    }
   ],
   "source": [
    "#Ans 4 :-\n",
    "from functools import reduce\n",
    "l1 = list(range(1,26))\n",
    "reduce(lambda x,y : x*y, l1)"
   ]
  },
  {
   "cell_type": "code",
   "execution_count": null,
   "id": "e625bdb5-478c-4f34-b9a0-1f6c0c9ec5b8",
   "metadata": {},
   "outputs": [],
   "source": [
    "'''Q5. Write a python program to filter the numbers in a given list that are divisible by 2 and 3 using the\n",
    "filter function.\n",
    "\n",
    "\n",
    "[2, 3, 6, 9, 27, 60, 90, 120, 55, 46]'''"
   ]
  },
  {
   "cell_type": "code",
   "execution_count": 15,
   "id": "3fe3ca3c-5906-407c-af52-cea6ff76a7bb",
   "metadata": {},
   "outputs": [
    {
     "data": {
      "text/plain": [
       "[6, 60, 90, 120]"
      ]
     },
     "execution_count": 15,
     "metadata": {},
     "output_type": "execute_result"
    }
   ],
   "source": [
    "l1 = [2, 3, 6, 9, 27, 60, 90, 120, 55, 46]\n",
    "list(filter(lambda x : x%2==0 and x%3==0, l1))"
   ]
  },
  {
   "cell_type": "code",
   "execution_count": null,
   "id": "9aa5e506-5aae-46e7-886c-6e4affa6d099",
   "metadata": {},
   "outputs": [],
   "source": [
    "'''Q6. Write a python program to find palindromes in the given list of strings using lambda and filter\n",
    "function.\n",
    "\n",
    "\n",
    "['python', 'php', 'aba', 'radar', 'level']'''"
   ]
  },
  {
   "cell_type": "code",
   "execution_count": 28,
   "id": "5750dcca-8401-461b-8fe6-6fec0ae3f7ad",
   "metadata": {},
   "outputs": [
    {
     "data": {
      "text/plain": [
       "['php', 'aba', 'radar', 'level']"
      ]
     },
     "execution_count": 28,
     "metadata": {},
     "output_type": "execute_result"
    }
   ],
   "source": [
    "''' a =\"aniket\"\n",
    "b = \"\".join(reversed(a))  \n",
    "output = \"tekina\" '''\n",
    "\n",
    "\n",
    "# Ans : -\n",
    "l1= ['python', 'php', 'aba', 'radar', 'level']\n",
    "list(filter(lambda x : x==\"\".join(reversed(x)), l1))"
   ]
  },
  {
   "cell_type": "code",
   "execution_count": null,
   "id": "718e88cb-e8d7-46c1-8982-055167c4ced4",
   "metadata": {},
   "outputs": [],
   "source": []
  }
 ],
 "metadata": {
  "kernelspec": {
   "display_name": "Python 3 (ipykernel)",
   "language": "python",
   "name": "python3"
  },
  "language_info": {
   "codemirror_mode": {
    "name": "ipython",
    "version": 3
   },
   "file_extension": ".py",
   "mimetype": "text/x-python",
   "name": "python",
   "nbconvert_exporter": "python",
   "pygments_lexer": "ipython3",
   "version": "3.10.8"
  }
 },
 "nbformat": 4,
 "nbformat_minor": 5
}
