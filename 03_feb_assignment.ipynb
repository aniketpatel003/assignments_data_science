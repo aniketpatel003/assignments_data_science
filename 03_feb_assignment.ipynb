{
 "cells": [
  {
   "cell_type": "code",
   "execution_count": null,
   "id": "62568f11-e2d4-4d79-a5b0-060942351ca5",
   "metadata": {},
   "outputs": [],
   "source": [
    "'''Q1. Which keyword is used to create a function? Create a function to return a list of odd numbers in the\n",
    "range of 1 to 25.'''"
   ]
  },
  {
   "cell_type": "code",
   "execution_count": 9,
   "id": "ed559001-3c52-44fb-985f-febad1abce3a",
   "metadata": {},
   "outputs": [],
   "source": [
    "# Ans 1 a) :- def keyword is used to create a function.\n",
    "# Ans 2 b) :- \n",
    "\n",
    "def odd_num():\n",
    "    l=list(range(1,26))\n",
    "    for i in l:\n",
    "        if i%2 != 0:\n",
    "            print(i)"
   ]
  },
  {
   "cell_type": "code",
   "execution_count": 10,
   "id": "c01e5fb8-c894-4504-b8fd-1a95cc0c614e",
   "metadata": {},
   "outputs": [
    {
     "name": "stdout",
     "output_type": "stream",
     "text": [
      "1\n",
      "3\n",
      "5\n",
      "7\n",
      "9\n",
      "11\n",
      "13\n",
      "15\n",
      "17\n",
      "19\n",
      "21\n",
      "23\n",
      "25\n"
     ]
    }
   ],
   "source": [
    "odd_num()"
   ]
  },
  {
   "cell_type": "code",
   "execution_count": null,
   "id": "fe11f08d-6696-4f25-b0e7-05945ba05c64",
   "metadata": {},
   "outputs": [],
   "source": [
    "'''Q2. Why *args and **kwargs is used in some functions? Create a function each for *args and **kwargs\n",
    "to demonstrate their use.'''"
   ]
  },
  {
   "cell_type": "code",
   "execution_count": 11,
   "id": "91c93055-b05f-4c92-95a5-116e6ea15be1",
   "metadata": {},
   "outputs": [],
   "source": [
    "''' Ans 2 a):- 1) *args (inside parenthesis) in function definitions in Python is used to pass a variable number of arguments\n",
    "                   to a function. We can use any name in place of args without changing its functioning. Eg : *hello\n",
    "               2) **kwargs in function definitions in Python is used to pass a variable-length argument list of key value pairs.'''\n",
    "# Ans 2 b) :- \n",
    "\n",
    "def test(*args):\n",
    "    return args\n",
    "\n",
    "def test1(**kwargs):\n",
    "    return kwargs\n",
    "               "
   ]
  },
  {
   "cell_type": "code",
   "execution_count": 12,
   "id": "0cf6c8a2-0a9e-4b82-9b1b-7f59979b4dd2",
   "metadata": {},
   "outputs": [
    {
     "data": {
      "text/plain": [
       "(1, 2, 4)"
      ]
     },
     "execution_count": 12,
     "metadata": {},
     "output_type": "execute_result"
    }
   ],
   "source": [
    "test(1,2,4)"
   ]
  },
  {
   "cell_type": "code",
   "execution_count": 17,
   "id": "31e1b542-46b4-4c75-872b-e074bf511a96",
   "metadata": {},
   "outputs": [
    {
     "data": {
      "text/plain": [
       "{'a': 'ani', 'b': (1, 2, 3), 'c': {'a': 1, 'b': 2}}"
      ]
     },
     "execution_count": 17,
     "metadata": {},
     "output_type": "execute_result"
    }
   ],
   "source": [
    "test1(a='ani', b=(1,2,3), c = {\"a\" : 1 , \"b\" : 2})"
   ]
  },
  {
   "cell_type": "code",
   "execution_count": null,
   "id": "69c0ba03-62ff-4d29-ba06-732ccfdb90e9",
   "metadata": {},
   "outputs": [],
   "source": [
    "'''Q3. What is an iterator in python? Name the method used to initialise the iterator object and the method\n",
    "used for iteration. Use these methods to print the first five elements of the given list [2, 4, 6, 8, 10, 12, 14,\n",
    "16, 18, 20].'''"
   ]
  },
  {
   "cell_type": "code",
   "execution_count": 19,
   "id": "48fa290f-4c08-4fcb-9882-a66f0e434e87",
   "metadata": {},
   "outputs": [
    {
     "name": "stdout",
     "output_type": "stream",
     "text": [
      "2\n",
      "4\n",
      "6\n",
      "8\n",
      "10\n"
     ]
    }
   ],
   "source": [
    "''' Ans 1 a) :- An iterator is an object that can be iterated upon, meaning that you can traverse through all the values.\n",
    "          b) :- iter() method is used to initialize the iterator object and next() method is used for iteration.'''\n",
    "\n",
    "# Ans 1 c) :-\n",
    "l = [2, 4, 6, 8, 10, 12, 14, 16, 18, 20]\n",
    "l1=iter(l)\n",
    "for i in range(1,6):\n",
    "    print(next(l1))\n"
   ]
  },
  {
   "cell_type": "code",
   "execution_count": null,
   "id": "33089a7f-787a-4a9a-8539-12b60c09d298",
   "metadata": {},
   "outputs": [],
   "source": [
    "'''Q4. What is a generator function in python? Why yield keyword is used? Give an example of a generator\n",
    "function.'''"
   ]
  },
  {
   "cell_type": "code",
   "execution_count": 5,
   "id": "669fc09e-d9d9-4abe-b38e-cbadef198c36",
   "metadata": {},
   "outputs": [
    {
     "name": "stdout",
     "output_type": "stream",
     "text": [
      "1\n",
      "3\n",
      "5\n",
      "7\n",
      "9\n",
      "11\n",
      "13\n",
      "15\n",
      "17\n",
      "19\n"
     ]
    }
   ],
   "source": [
    "''' Ans 4 a) :- A generator function in Python is defined just like a normal function, but whenever it needs to generate a value,\n",
    "                it does so with the yield keyword rather than return. If the body of a def contains yield, the function \n",
    "                automatically becomes a Python generator function. \n",
    "                \n",
    "          b) :- Yield - It allows a function to produce a sequence of results over time, rather than calculating them all at once \n",
    "                and returning them in a list. This makes it incredibly memory-efficient, especially when dealing with\n",
    "                large sequences of data. '''\n",
    "\n",
    "# Ans 4 c) :- Example of a generator function\n",
    "\n",
    "\n",
    "def odd_num():\n",
    "    for i in range(0,1000):\n",
    "        if i%2 != 0:\n",
    "            yield i\n",
    "odd = odd_num()\n",
    "            \n",
    "for i in range(10):\n",
    "    print(next(odd))\n",
    "\n",
    "                "
   ]
  },
  {
   "cell_type": "code",
   "execution_count": null,
   "id": "f5a27fdd-a389-406a-b5ed-628efcc3c2ae",
   "metadata": {},
   "outputs": [],
   "source": [
    "'''Q5. Create a generator function for prime numbers less than 1000. Use the next() method to print the\n",
    "first 20 prime numbers.'''"
   ]
  },
  {
   "cell_type": "code",
   "execution_count": 74,
   "id": "e5fef29e-d1f6-4be7-bfe6-43fc2cc6d720",
   "metadata": {},
   "outputs": [
    {
     "name": "stdout",
     "output_type": "stream",
     "text": [
      "2\n",
      "3\n",
      "5\n",
      "7\n",
      "11\n",
      "13\n",
      "17\n",
      "19\n",
      "23\n",
      "29\n",
      "31\n",
      "37\n",
      "41\n",
      "43\n",
      "47\n",
      "53\n",
      "59\n",
      "61\n",
      "67\n",
      "71\n",
      "73\n"
     ]
    }
   ],
   "source": [
    "# Ans 5 :-\n",
    "def prime():\n",
    "    \n",
    "    for num in list(range(1,1000)):\n",
    "        if(num>1):\n",
    "            for j in range(2,num):\n",
    "                if num%j ==0:\n",
    "                    break\n",
    "            else:\n",
    "                    yield num\n",
    "prime_num =prime()\n",
    "for i in range(21):\n",
    "    print(next(prime_num))\n"
   ]
  },
  {
   "cell_type": "code",
   "execution_count": null,
   "id": "3bd2a2bf-d6e5-43db-8342-06528e0dde1d",
   "metadata": {},
   "outputs": [],
   "source": [
    "'''Q6. Write a python program to print the first 10 Fibonacci numbers using a while loop'''"
   ]
  },
  {
   "cell_type": "code",
   "execution_count": 33,
   "id": "482bdd38-a1f7-4526-b64f-1393f7c74b87",
   "metadata": {},
   "outputs": [
    {
     "name": "stdout",
     "output_type": "stream",
     "text": [
      "0\n",
      "1\n",
      "1\n",
      "2\n",
      "3\n",
      "5\n",
      "8\n",
      "13\n",
      "21\n",
      "34\n"
     ]
    }
   ],
   "source": [
    "# Ans 6 :- \n",
    "\n",
    "def test_fib1():\n",
    "    a,b = 0,1\n",
    "    while True:\n",
    "        yield a \n",
    "        a,b = b , a+b\n",
    "        \n",
    "fib= test_fib1()\n",
    "for i in range(10):\n",
    "    print(next(fib))"
   ]
  },
  {
   "cell_type": "code",
   "execution_count": null,
   "id": "4048443b-8e6e-4205-a225-f1a7623019bf",
   "metadata": {},
   "outputs": [],
   "source": [
    "'''Q7. Write a List Comprehension to iterate through the given string: ‘pwskills’.\n",
    "\n",
    "Expected output: ['p', 'w', 's', 'k', 'i', 'l', 'l', 's'] '''"
   ]
  },
  {
   "cell_type": "code",
   "execution_count": 36,
   "id": "c74efdc7-c0a8-4089-8a4c-c4d4a2352782",
   "metadata": {},
   "outputs": [
    {
     "data": {
      "text/plain": [
       "['p', 'w', 's', 'k', 'i', 'l', 'l', 's']"
      ]
     },
     "execution_count": 36,
     "metadata": {},
     "output_type": "execute_result"
    }
   ],
   "source": [
    "s = \"pwskills\"\n",
    "[i for i in s]"
   ]
  },
  {
   "cell_type": "code",
   "execution_count": null,
   "id": "9da44584-7e8c-40d1-a40f-cc8c0d6ac658",
   "metadata": {},
   "outputs": [],
   "source": [
    "'''Q8. Write a python program to check whether a given number is Palindrome or not using a while loop.'''"
   ]
  },
  {
   "cell_type": "code",
   "execution_count": 68,
   "id": "99fb72b3-9dfa-4e80-a269-e8eb5d2a159d",
   "metadata": {},
   "outputs": [],
   "source": [
    "def palin_drome(s):\n",
    "    s2=\"\"\n",
    "    for i in range(len(s)-1,-1,-1):\n",
    "        s2 += s[i]\n",
    "    print(s2)\n",
    "    if (s2==s):\n",
    "        print(\"PALINDROME\")\n",
    "    else:\n",
    "        print(\"NOT A PALINDROME\")\n",
    "    \n",
    "    \n",
    "    "
   ]
  },
  {
   "cell_type": "code",
   "execution_count": 69,
   "id": "d3d36b11-3049-4400-a386-a4c9b1db7fe4",
   "metadata": {},
   "outputs": [
    {
     "name": "stdout",
     "output_type": "stream",
     "text": [
      "MADAM\n",
      "PALINDROME\n"
     ]
    }
   ],
   "source": [
    "palin_drome(\"MADAM\")"
   ]
  },
  {
   "cell_type": "code",
   "execution_count": null,
   "id": "579b7f43-3d4e-464c-89ae-aad5579bfe05",
   "metadata": {},
   "outputs": [],
   "source": [
    "'''Q9. Write a code to print odd numbers from 1 to 100 using list comprehension.\n",
    "Note: Use a list comprehension to create a list from 1 to 100 and use another List comprehension to filter\n",
    "out odd numbers.'''"
   ]
  },
  {
   "cell_type": "code",
   "execution_count": 73,
   "id": "5b502bbf-0ed3-4d7d-ae19-f00d4ff5cd4f",
   "metadata": {},
   "outputs": [
    {
     "data": {
      "text/plain": [
       "[1,\n",
       " 3,\n",
       " 5,\n",
       " 7,\n",
       " 9,\n",
       " 11,\n",
       " 13,\n",
       " 15,\n",
       " 17,\n",
       " 19,\n",
       " 21,\n",
       " 23,\n",
       " 25,\n",
       " 27,\n",
       " 29,\n",
       " 31,\n",
       " 33,\n",
       " 35,\n",
       " 37,\n",
       " 39,\n",
       " 41,\n",
       " 43,\n",
       " 45,\n",
       " 47,\n",
       " 49,\n",
       " 51,\n",
       " 53,\n",
       " 55,\n",
       " 57,\n",
       " 59,\n",
       " 61,\n",
       " 63,\n",
       " 65,\n",
       " 67,\n",
       " 69,\n",
       " 71,\n",
       " 73,\n",
       " 75,\n",
       " 77,\n",
       " 79,\n",
       " 81,\n",
       " 83,\n",
       " 85,\n",
       " 87,\n",
       " 89,\n",
       " 91,\n",
       " 93,\n",
       " 95,\n",
       " 97,\n",
       " 99]"
      ]
     },
     "execution_count": 73,
     "metadata": {},
     "output_type": "execute_result"
    }
   ],
   "source": [
    "[i for i in [i for i in list(range(1,101))]  if i%2 != 0]\n"
   ]
  },
  {
   "cell_type": "code",
   "execution_count": null,
   "id": "d43171fb-3cbe-45f6-ac85-1a3d54b563c4",
   "metadata": {},
   "outputs": [],
   "source": []
  }
 ],
 "metadata": {
  "kernelspec": {
   "display_name": "Python 3 (ipykernel)",
   "language": "python",
   "name": "python3"
  },
  "language_info": {
   "codemirror_mode": {
    "name": "ipython",
    "version": 3
   },
   "file_extension": ".py",
   "mimetype": "text/x-python",
   "name": "python",
   "nbconvert_exporter": "python",
   "pygments_lexer": "ipython3",
   "version": "3.10.8"
  }
 },
 "nbformat": 4,
 "nbformat_minor": 5
}
