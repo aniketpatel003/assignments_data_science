{
 "cells": [
  {
   "cell_type": "code",
   "execution_count": null,
   "id": "6d1c2131-2cb7-4bbd-93eb-9869ddacc091",
   "metadata": {},
   "outputs": [],
   "source": [
    "'''Q1. Create a function which will take a list as an argument and return the product of all the numbers\n",
    "after creating a flat list.\n",
    "\n",
    "Use the below-given list as an argument for your function.\n",
    "\n",
    "\n",
    "list1 = [1,2,3,4, [44,55,66, True], False, (34,56,78,89,34), {1,2,3,3,2,1}, {1:34, \"key2\": [55, 67, 78, 89], 4: (45,\n",
    "22, 61, 34)}, [56, 'data science'], 'Machine Learning']\n",
    "\n",
    "Note: you must extract numeric keys and values of the dictionary also'''"
   ]
  },
  {
   "cell_type": "code",
   "execution_count": 31,
   "id": "555a8997-4ac4-4531-a5c2-905a37d64d32",
   "metadata": {},
   "outputs": [],
   "source": [
    "list1 = [1,2,3,4, [44,55,66, True], False, (34,56,78,89,34), {1,2,3,3,2,1}, {1:34, \"key2\": [55, 67, 78, 89], 4: (45,\n",
    "22, 61, 34)}, [56, 'data science'], 'Machine Learning']\n",
    "\n",
    "def func(l):\n",
    "    l1= []\n",
    "    for i in l:\n",
    "        if type(i) == int:\n",
    "            l1.append(i)\n",
    "        elif type(i) == list:\n",
    "            for j in i:\n",
    "                if type(j) == int:\n",
    "                    l1.append(j)\n",
    "        elif type(i) == tuple:\n",
    "            for j in i :\n",
    "                if type(j) == int:\n",
    "                    l1.append(j)\n",
    "        elif type(i) == set:\n",
    "            for j in i :\n",
    "                if type(j) == int:\n",
    "                    l1.append(j)\n",
    "        elif type(i) == dict:\n",
    "            for j,k in i.items() :\n",
    "                if type(j) == int:\n",
    "                    l1.append(j)\n",
    "                if type(k) == int:\n",
    "                    l1.append(k)\n",
    "                if type(k)== list:\n",
    "                    for z in k:\n",
    "                        if type(z) == int:\n",
    "                            l1.append(z)\n",
    "                if type(k)== tuple:\n",
    "                    for z in k:\n",
    "                        if type(z) == int:\n",
    "                            l1.append(z)\n",
    "    return l1"
   ]
  },
  {
   "cell_type": "code",
   "execution_count": 34,
   "id": "a4f8e014-7305-4ca8-b0e2-7ab52ef45ef5",
   "metadata": {},
   "outputs": [
    {
     "data": {
      "text/plain": [
       "[1,\n",
       " 2,\n",
       " 3,\n",
       " 4,\n",
       " 44,\n",
       " 55,\n",
       " 66,\n",
       " 34,\n",
       " 56,\n",
       " 78,\n",
       " 89,\n",
       " 34,\n",
       " 1,\n",
       " 2,\n",
       " 3,\n",
       " 1,\n",
       " 34,\n",
       " 55,\n",
       " 67,\n",
       " 78,\n",
       " 89,\n",
       " 4,\n",
       " 45,\n",
       " 22,\n",
       " 61,\n",
       " 34,\n",
       " 56]"
      ]
     },
     "execution_count": 34,
     "metadata": {},
     "output_type": "execute_result"
    }
   ],
   "source": [
    "list2= func(list1)\n",
    "list2"
   ]
  },
  {
   "cell_type": "code",
   "execution_count": 51,
   "id": "fa22cebe-568a-41c6-a3a1-e5011ef08d3f",
   "metadata": {},
   "outputs": [
    {
     "name": "stdout",
     "output_type": "stream",
     "text": [
      " Their product is :  4134711838987085478833841242112000\n"
     ]
    }
   ],
   "source": [
    "from functools import  reduce\n",
    "\n",
    "print(\" Their product is : \" , reduce(lambda x ,y : x*y , list2))"
   ]
  },
  {
   "cell_type": "code",
   "execution_count": null,
   "id": "532e4195-cb34-4376-96ca-42adb108b865",
   "metadata": {},
   "outputs": [],
   "source": [
    "'''Q2. Write a python program for encrypting a message sent to you by your friend. The logic of encryption\n",
    "should be such that, for a the output should be z. For b, the output should be y. For c, the output should\n",
    "be x respectively. Also, the whitespace should be replaced with a dollar sign. Keep the punctuation\n",
    "marks unchanged.\n",
    "\n",
    "\n",
    "Input Sentence: I want to become a Data Scientist.\n",
    "\n",
    "\n",
    "Encrypt the above input sentence using the program you just created.\n",
    "\n",
    "\n",
    "Note: Convert the given input sentence into lowercase before encrypting. The final output should be\n",
    "lowercase.'''"
   ]
  },
  {
   "cell_type": "code",
   "execution_count": 43,
   "id": "4e4c3054-5bd0-493a-9514-f490cdc58a7c",
   "metadata": {},
   "outputs": [
    {
     "data": {
      "text/plain": [
       "'i want to become a data scientist'"
      ]
     },
     "execution_count": 43,
     "metadata": {},
     "output_type": "execute_result"
    }
   ],
   "source": [
    "input_sentence= \"I want to become a Data Scientist\"\n",
    "input_sentence_1 = input_sentence.lower()\n",
    "input_sentence_1"
   ]
  },
  {
   "cell_type": "code",
   "execution_count": 49,
   "id": "228c6a8e-ecea-44be-8521-64c79669846e",
   "metadata": {},
   "outputs": [
    {
     "name": "stdout",
     "output_type": "stream",
     "text": [
      " Encrypted input sentence is :  i$wznt$to$yexome$z$dztz$sxientist\n"
     ]
    }
   ],
   "source": [
    "dict =  { 'a' : 'z', 'b' : 'y', 'c' : 'x', ' ' : '$'}\n",
    "for i in input_sentence_1:\n",
    "    for j,k in dict.items():\n",
    "        if i == j:\n",
    "            input_sentence_1 = input_sentence_1.replace(i, dict[i])\n",
    "print(\" Encrypted input sentence is : \" , input_sentence_1 )\n"
   ]
  },
  {
   "cell_type": "code",
   "execution_count": null,
   "id": "0f1f6098-0fa8-4aaf-9f4f-1544aba38d5d",
   "metadata": {},
   "outputs": [],
   "source": []
  }
 ],
 "metadata": {
  "kernelspec": {
   "display_name": "Python 3 (ipykernel)",
   "language": "python",
   "name": "python3"
  },
  "language_info": {
   "codemirror_mode": {
    "name": "ipython",
    "version": 3
   },
   "file_extension": ".py",
   "mimetype": "text/x-python",
   "name": "python",
   "nbconvert_exporter": "python",
   "pygments_lexer": "ipython3",
   "version": "3.10.8"
  }
 },
 "nbformat": 4,
 "nbformat_minor": 5
}
